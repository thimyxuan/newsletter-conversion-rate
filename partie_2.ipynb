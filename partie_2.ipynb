{
 "cells": [
  {
   "cell_type": "markdown",
   "metadata": {},
   "source": [
    "# PARTIE 2 : Entraînement d'un modèle de base\n",
    "\n",
    "Nous sommes dans un problème de classification binaire.\n",
    "\n",
    "Nous cherchons à prédire une classe : 0 ou 1."
   ]
  },
  {
   "cell_type": "markdown",
   "metadata": {},
   "source": [
    "## Import librairies"
   ]
  },
  {
   "cell_type": "code",
   "execution_count": 99,
   "metadata": {},
   "outputs": [],
   "source": [
    "import pandas as pd\n",
    "import numpy as np\n",
    "import matplotlib.pyplot as plt\n",
    "import seaborn as sns\n",
    "\n",
    "from sklearn.model_selection import train_test_split\n",
    "from sklearn.pipeline import Pipeline\n",
    "from sklearn.preprocessing import StandardScaler, OneHotEncoder\n",
    "from sklearn.compose import ColumnTransformer\n",
    "from sklearn.linear_model import LogisticRegression\n",
    "from sklearn.metrics import f1_score, classification_report, ConfusionMatrixDisplay\n",
    "from sklearn.model_selection import cross_val_score"
   ]
  },
  {
   "cell_type": "markdown",
   "metadata": {},
   "source": [
    "## Import des données"
   ]
  },
  {
   "cell_type": "code",
   "execution_count": 100,
   "metadata": {},
   "outputs": [
    {
     "name": "stdout",
     "output_type": "stream",
     "text": [
      "(278449, 6)\n"
     ]
    },
    {
     "data": {
      "text/html": [
       "<div>\n",
       "<style scoped>\n",
       "    .dataframe tbody tr th:only-of-type {\n",
       "        vertical-align: middle;\n",
       "    }\n",
       "\n",
       "    .dataframe tbody tr th {\n",
       "        vertical-align: top;\n",
       "    }\n",
       "\n",
       "    .dataframe thead th {\n",
       "        text-align: right;\n",
       "    }\n",
       "</style>\n",
       "<table border=\"1\" class=\"dataframe\">\n",
       "  <thead>\n",
       "    <tr style=\"text-align: right;\">\n",
       "      <th></th>\n",
       "      <th>country</th>\n",
       "      <th>age</th>\n",
       "      <th>new_user</th>\n",
       "      <th>source</th>\n",
       "      <th>total_pages_visited</th>\n",
       "      <th>converted</th>\n",
       "    </tr>\n",
       "  </thead>\n",
       "  <tbody>\n",
       "    <tr>\n",
       "      <th>0</th>\n",
       "      <td>China</td>\n",
       "      <td>22</td>\n",
       "      <td>1</td>\n",
       "      <td>Direct</td>\n",
       "      <td>2</td>\n",
       "      <td>0</td>\n",
       "    </tr>\n",
       "    <tr>\n",
       "      <th>1</th>\n",
       "      <td>UK</td>\n",
       "      <td>21</td>\n",
       "      <td>1</td>\n",
       "      <td>Ads</td>\n",
       "      <td>3</td>\n",
       "      <td>0</td>\n",
       "    </tr>\n",
       "    <tr>\n",
       "      <th>2</th>\n",
       "      <td>Germany</td>\n",
       "      <td>20</td>\n",
       "      <td>0</td>\n",
       "      <td>Seo</td>\n",
       "      <td>14</td>\n",
       "      <td>1</td>\n",
       "    </tr>\n",
       "    <tr>\n",
       "      <th>3</th>\n",
       "      <td>US</td>\n",
       "      <td>23</td>\n",
       "      <td>1</td>\n",
       "      <td>Seo</td>\n",
       "      <td>3</td>\n",
       "      <td>0</td>\n",
       "    </tr>\n",
       "    <tr>\n",
       "      <th>4</th>\n",
       "      <td>US</td>\n",
       "      <td>28</td>\n",
       "      <td>1</td>\n",
       "      <td>Direct</td>\n",
       "      <td>3</td>\n",
       "      <td>0</td>\n",
       "    </tr>\n",
       "  </tbody>\n",
       "</table>\n",
       "</div>"
      ],
      "text/plain": [
       "   country  age  new_user  source  total_pages_visited  converted\n",
       "0    China   22         1  Direct                    2          0\n",
       "1       UK   21         1     Ads                    3          0\n",
       "2  Germany   20         0     Seo                   14          1\n",
       "3       US   23         1     Seo                    3          0\n",
       "4       US   28         1  Direct                    3          0"
      ]
     },
     "execution_count": 100,
     "metadata": {},
     "output_type": "execute_result"
    }
   ],
   "source": [
    "dataset = pd.read_csv('./src/dataset_for_ml.csv')\n",
    "print(dataset.shape)\n",
    "dataset.head()"
   ]
  },
  {
   "cell_type": "markdown",
   "metadata": {},
   "source": [
    "## Preprocessings Sklearn"
   ]
  },
  {
   "cell_type": "code",
   "execution_count": 101,
   "metadata": {},
   "outputs": [
    {
     "name": "stdout",
     "output_type": "stream",
     "text": [
      "Separating labels from features...\n",
      "...Done\n",
      "\n",
      "y:\n",
      "0    0\n",
      "1    0\n",
      "2    1\n",
      "3    0\n",
      "4    0\n",
      "Name: converted, dtype: int64\n",
      "\n",
      "X:\n",
      "   country  age  new_user  source  total_pages_visited\n",
      "0    China   22         1  Direct                    2\n",
      "1       UK   21         1     Ads                    3\n",
      "2  Germany   20         0     Seo                   14\n",
      "3       US   23         1     Seo                    3\n",
      "4       US   28         1  Direct                    3\n",
      "\n",
      "Dividing into train set and test set...\n",
      "...Done\n",
      "\n"
     ]
    }
   ],
   "source": [
    "# Separate target variable y from features X:\n",
    "target_variable = 'converted'\n",
    "print('Separating labels from features...')\n",
    "y = dataset.loc[:,target_variable]\n",
    "X = dataset.drop(target_variable, axis = 1)\n",
    "print('...Done')\n",
    "print()\n",
    "print('y:')\n",
    "print(y.head())\n",
    "print()\n",
    "print('X:')\n",
    "print(X.head())\n",
    "print()\n",
    "\n",
    "# Divide dataset into train set and test set:\n",
    "print('Dividing into train set and test set...')\n",
    "X_train, X_test, y_train, y_test = train_test_split(X, y, test_size=0.3, random_state=0, stratify=y)\n",
    "print('...Done')\n",
    "print()\n",
    "\n",
    "# Distinguish numeric and categorical features:\n",
    "numeric_features = ['age', 'total_pages_visited']\n",
    "categorical_features = ['country', 'new_user', 'source']\n",
    "\n",
    "# Create pipeline for numeric features:\n",
    "numeric_transformer = Pipeline(steps=[\n",
    "    ('scaler', StandardScaler())\n",
    "])\n",
    "\n",
    "# Create pipeline for categorical features:\n",
    "categorical_transformer = Pipeline(steps=[\n",
    "    ('encoder', OneHotEncoder(drop='first'))\n",
    "])\n",
    "\n",
    "# Use ColumnTransformer to male a preprocessor object that describe all the treatments to be done:\n",
    "preprocessor = ColumnTransformer(\n",
    "    transformers=[\n",
    "        ('num', numeric_transformer, numeric_features),\n",
    "        ('cat', categorical_transformer, categorical_features)\n",
    "    ]\n",
    ")"
   ]
  },
  {
   "cell_type": "markdown",
   "metadata": {},
   "source": [
    "## Application des preprocessings"
   ]
  },
  {
   "cell_type": "code",
   "execution_count": 102,
   "metadata": {},
   "outputs": [
    {
     "name": "stdout",
     "output_type": "stream",
     "text": [
      "Performing preprocessings on train set...\n",
      "       country  age  new_user  source  total_pages_visited\n",
      "49557       UK   43         1     Seo                    3\n",
      "20736       UK   18         1  Direct                    7\n",
      "93300    China   28         1     Seo                    3\n",
      "23800       US   36         0     Seo                    2\n",
      "160341   China   35         1     Ads                   10\n",
      "...Done\n",
      "[[ 1.53748968 -0.56956072  0.          1.          0.          1.\n",
      "   0.          1.        ]\n",
      " [-1.54684614  0.82018113  0.          1.          0.          1.\n",
      "   1.          0.        ]\n",
      " [-0.31311181 -0.56956072  0.          0.          0.          1.\n",
      "   0.          1.        ]\n",
      " [ 0.67387565 -0.91699619  0.          0.          1.          0.\n",
      "   0.          1.        ]\n",
      " [ 0.55050221  1.86248752  0.          0.          0.          1.\n",
      "   0.          0.        ]]\n",
      "\n",
      "Performing preprocessings on test set:\n",
      "       country  age  new_user  source  total_pages_visited\n",
      "26611       UK   26         0     Ads                    7\n",
      "186274      US   28         1  Direct                    1\n",
      "185697      US   22         1     Seo                    1\n",
      "23977       US   41         1     Seo                   10\n",
      "274425      US   23         0  Direct                    9\n",
      "...Done\n",
      "[[-0.55985868  0.82018113  0.          1.          0.          0.\n",
      "   0.          0.        ]\n",
      " [-0.31311181 -1.26443165  0.          0.          1.          1.\n",
      "   1.          0.        ]\n",
      " [-1.05335241 -1.26443165  0.          0.          1.          1.\n",
      "   0.          1.        ]\n",
      " [ 1.29074281  1.86248752  0.          0.          1.          1.\n",
      "   0.          1.        ]\n",
      " [-0.92997898  1.51505206  0.          0.          1.          0.\n",
      "   1.          0.        ]]\n",
      "\n"
     ]
    }
   ],
   "source": [
    "# Preprocessings on train set:\n",
    "print('Performing preprocessings on train set...')\n",
    "print(X_train.head())\n",
    "X_train = preprocessor.fit_transform(X_train)\n",
    "print('...Done')\n",
    "print(X_train[0:5])\n",
    "print()\n",
    "\n",
    "# Preprocessings on test set:\n",
    "print('Performing preprocessings on test set:')\n",
    "print(X_test.head())\n",
    "X_test = preprocessor.transform(X_test)\n",
    "print('...Done')\n",
    "print(X_test[0:5])\n",
    "print()"
   ]
  },
  {
   "cell_type": "markdown",
   "metadata": {},
   "source": [
    "## Entraînement d'un modèle de classification de base\n",
    "\n",
    "Nous entraînons un modèle de classification de base soit une régression logistique."
   ]
  },
  {
   "cell_type": "code",
   "execution_count": 103,
   "metadata": {},
   "outputs": [
    {
     "name": "stdout",
     "output_type": "stream",
     "text": [
      "Training model...\n",
      "...Done\n"
     ]
    }
   ],
   "source": [
    "# Model training:\n",
    "classifier = LogisticRegression(max_iter = 1000)\n",
    "print('Training model...')\n",
    "classifier.fit(X_train, y_train)\n",
    "print('...Done')"
   ]
  },
  {
   "cell_type": "markdown",
   "metadata": {},
   "source": [
    "## Prédictions"
   ]
  },
  {
   "cell_type": "code",
   "execution_count": 104,
   "metadata": {},
   "outputs": [
    {
     "name": "stdout",
     "output_type": "stream",
     "text": [
      "Predictions on training set...\n",
      "...Done.\n",
      "[0 0 0 ... 0 0 0]\n",
      "\n",
      "Predictions on test set...\n",
      "...Done.\n",
      "[0 0 0 ... 0 0 0]\n",
      "\n"
     ]
    }
   ],
   "source": [
    "# Predictions on training set:\n",
    "print(\"Predictions on training set...\")\n",
    "y_train_pred = classifier.predict(X_train)\n",
    "print(\"...Done.\")\n",
    "print(y_train_pred)\n",
    "print()\n",
    "\n",
    "# Predictions on test set:\n",
    "print(\"Predictions on test set...\")\n",
    "y_test_pred = classifier.predict(X_test)\n",
    "print(\"...Done.\")\n",
    "print(y_test_pred)\n",
    "print()"
   ]
  },
  {
   "cell_type": "markdown",
   "metadata": {},
   "source": [
    "## Résultats et performance"
   ]
  },
  {
   "cell_type": "code",
   "execution_count": 105,
   "metadata": {},
   "outputs": [
    {
     "name": "stdout",
     "output_type": "stream",
     "text": [
      "Train accuracy: 0.9873123531403594\n",
      "Test accuracy: 0.9874663314778237\n"
     ]
    }
   ],
   "source": [
    "# Print scores:\n",
    "print(f'Train accuracy: {classifier.score(X_train, y_train)}')\n",
    "print(f'Test accuracy: {classifier.score(X_test, y_test)}')"
   ]
  },
  {
   "cell_type": "code",
   "execution_count": 106,
   "metadata": {},
   "outputs": [
    {
     "name": "stdout",
     "output_type": "stream",
     "text": [
      "Cross-validated accuracy: 0.9873277446685347\n",
      "Standard deviation: 0.00182467958779592\n"
     ]
    }
   ],
   "source": [
    "# Cross-validation:\n",
    "# Let's see the scores with a cross-validation of k=100\n",
    "scores = cross_val_score(classifier, X_train, y_train, cv=100)\n",
    "avg = scores.mean()\n",
    "std = scores.std()\n",
    "print(f'Cross-validated accuracy: {avg}')\n",
    "print(f'Standard deviation: {std}')"
   ]
  },
  {
   "cell_type": "markdown",
   "metadata": {},
   "source": [
    "## Choix des métriques\n",
    "\n",
    "Notre jeu de données n'est pas équilibré. Le taux de conversion est très faible.\n",
    "\n",
    "Seulement 1.65% des visiteurs souscrivent à la newsletter, 98.35% des visiteurs ne souscrivent pas.\n",
    "\n",
    "Par conséquent l'accuracy n'est pas une bonne métrique pour mesurer la performance du modèle. \n",
    "\n",
    "--> Nous devons regarder le F1 score et la matrice de confusion."
   ]
  },
  {
   "cell_type": "code",
   "execution_count": 107,
   "metadata": {},
   "outputs": [
    {
     "name": "stdout",
     "output_type": "stream",
     "text": [
      "f1-score on train set:  0.7470397595361735\n",
      "f1-score on test set:  0.7520854124360203\n"
     ]
    }
   ],
   "source": [
    "# Print scores:\n",
    "print(\"f1-score on train set: \", f1_score(y_train, y_train_pred, average = 'macro'))\n",
    "print(\"f1-score on test set: \", f1_score(y_test, y_test_pred, average = 'macro'))"
   ]
  },
  {
   "cell_type": "markdown",
   "metadata": {},
   "source": [
    "--> On remarque que le F1 score n'est pas aussi bon que l'accuracy."
   ]
  },
  {
   "cell_type": "code",
   "execution_count": 108,
   "metadata": {},
   "outputs": [
    {
     "name": "stdout",
     "output_type": "stream",
     "text": [
      "Classification report on train set:\n",
      "              precision    recall  f1-score   support\n",
      "\n",
      "           0       0.99      1.00      0.99    191699\n",
      "           1       0.71      0.39      0.50      3215\n",
      "\n",
      "    accuracy                           0.99    194914\n",
      "   macro avg       0.85      0.69      0.75    194914\n",
      "weighted avg       0.99      0.99      0.99    194914\n",
      "\n",
      "Classification report on test set:\n",
      "              precision    recall  f1-score   support\n",
      "\n",
      "           0       0.99      1.00      0.99     82157\n",
      "           1       0.72      0.40      0.51      1378\n",
      "\n",
      "    accuracy                           0.99     83535\n",
      "   macro avg       0.85      0.70      0.75     83535\n",
      "weighted avg       0.99      0.99      0.99     83535\n",
      "\n"
     ]
    }
   ],
   "source": [
    "# Print classification report:\n",
    "print('Classification report on train set:')\n",
    "print(classification_report(y_train, y_train_pred))\n",
    "print('Classification report on test set:')\n",
    "print(classification_report(y_test, y_test_pred))"
   ]
  },
  {
   "cell_type": "markdown",
   "metadata": {},
   "source": [
    "### Rapport de classification :\n",
    "\n",
    "- **Précision** : sur tous les utilisateurs dont le modèle prévoyait qu'ils s'abonneraient à la newsletter, seuls 71 % l'ont effectivement fait\n",
    "\n",
    "- **Recall**: sur tous les utilisateurs réellement abonnés à la newsletter, le modèle n'a prédit correctement ce résultat que pour 39 % de ces utilisateurs\n",
    "\n",
    "- **F1 score** : il résulte un F1 score de 0,5 pour la classe 1 soit la prédiction qu'un utilisateur s'abonnerait\n",
    "\n",
    "--> Le modèle est bon pour prédire lorsqu'un utilisateur ne s'abonnerait pas. En revanche il est mauvais pour prédire lorsqu'un utilisateur s'abonnerait."
   ]
  },
  {
   "cell_type": "markdown",
   "metadata": {},
   "source": [
    "## Matrice de confusion"
   ]
  },
  {
   "cell_type": "code",
   "execution_count": 135,
   "metadata": {},
   "outputs": [
    {
     "data": {
      "image/png": "[encoded data removed]",
      "text/plain": [
       "<Figure size 900x300 with 4 Axes>"
      ]
     },
     "metadata": {},
     "output_type": "display_data"
    }
   ],
   "source": [
    "sns.set(rc={'figure.figsize':(9, 3)}, style='white')\n",
    "fig, axes = plt.subplots(1, 2)\n",
    "fig.subplots_adjust(hspace=0.125, wspace=0.5)\n",
    "\n",
    "ConfusionMatrixDisplay.from_estimator(classifier, X_train, y_train, ax = axes[0])\n",
    "ConfusionMatrixDisplay.from_estimator(classifier, X_test, y_test, ax = axes[1])\n",
    "\n",
    "fig.suptitle('Matrices de confusion (modèle de base)', fontsize=12.5)\n",
    "fig.subplots_adjust(top=.75)\n",
    "\n",
    "axes[0].set_title('sur le train set', fontsize=11)\n",
    "axes[1].set_title('sur le test set', fontsize=11)\n",
    "\n",
    "axes[0].set_xlabel('prédiction', fontsize=13)\n",
    "axes[1].set_xlabel('prédiction', fontsize=13)\n",
    "axes[0].set_ylabel('réel', fontsize=13)\n",
    "axes[1].set_ylabel('réel', fontsize=13)\n",
    "\n",
    "axes[0].set_xticks([0,1], ['pas souscrit', 'a souscrit'], fontsize=9, fontweight='bold')\n",
    "axes[1].set_xticks([0,1], ['pas souscrit', 'a souscrit'], fontsize=9, fontweight='bold')\n",
    "axes[0].set_yticks([0,1], ['pas souscrit', 'a souscrit'], fontsize=9, rotation=90, va='center', fontweight='bold')\n",
    "axes[1].set_yticks([0,1], ['pas souscrit', 'a souscrit'], fontsize=9, rotation=90, va='center', fontweight='bold')\n",
    "\n",
    "plt.show()"
   ]
  },
  {
   "cell_type": "markdown",
   "metadata": {},
   "source": [
    "### Résultats :\n",
    "\n",
    "Les matrices de confusion confirment les résultats du rapport de classification :\n",
    "\n",
    "- Elles montrent que le modèle de base est efficace pour prédire la classe 0 (prédire que l'utilisateur ne s'abonnera pas) ;\n",
    "\n",
    "- Mais il n'est pas bon pour prédire la classe 1 (prédire que l'utilisateur s'abonnera) ;\n",
    "\n",
    "- Il passe à coté de vrais positifs, et prédit des faux positifs.\n"
   ]
  },
  {
   "cell_type": "markdown",
   "metadata": {},
   "source": [
    "## Importance des features\n",
    "\n",
    "Nous examinons comment le modèle de base pondère les features pour faire ses prédictions."
   ]
  },
  {
   "cell_type": "code",
   "execution_count": 111,
   "metadata": {},
   "outputs": [],
   "source": [
    "# Get the names and coefficients of the features:\n",
    "feature_names_out = preprocessor.get_feature_names_out()\n",
    "feature_names = [fname for fname in feature_names_out]\n",
    "coefs = pd.DataFrame(index = feature_names, data = classifier.coef_.transpose(), columns=[\"coefficients\"])"
   ]
  },
  {
   "cell_type": "code",
   "execution_count": 112,
   "metadata": {},
   "outputs": [
    {
     "data": {
      "text/html": [
       "<div>\n",
       "<style scoped>\n",
       "    .dataframe tbody tr th:only-of-type {\n",
       "        vertical-align: middle;\n",
       "    }\n",
       "\n",
       "    .dataframe tbody tr th {\n",
       "        vertical-align: top;\n",
       "    }\n",
       "\n",
       "    .dataframe thead th {\n",
       "        text-align: right;\n",
       "    }\n",
       "</style>\n",
       "<table border=\"1\" class=\"dataframe\">\n",
       "  <thead>\n",
       "    <tr style=\"text-align: right;\">\n",
       "      <th></th>\n",
       "      <th>coefficients</th>\n",
       "    </tr>\n",
       "  </thead>\n",
       "  <tbody>\n",
       "    <tr>\n",
       "      <th>cat__country_Germany</th>\n",
       "      <td>3.289475</td>\n",
       "    </tr>\n",
       "    <tr>\n",
       "      <th>cat__country_UK</th>\n",
       "      <td>3.075964</td>\n",
       "    </tr>\n",
       "    <tr>\n",
       "      <th>cat__country_US</th>\n",
       "      <td>2.734379</td>\n",
       "    </tr>\n",
       "    <tr>\n",
       "      <th>num__total_pages_visited</th>\n",
       "      <td>2.177316</td>\n",
       "    </tr>\n",
       "    <tr>\n",
       "      <th>cat__source_Seo</th>\n",
       "      <td>0.053833</td>\n",
       "    </tr>\n",
       "    <tr>\n",
       "      <th>cat__source_Direct</th>\n",
       "      <td>-0.118909</td>\n",
       "    </tr>\n",
       "    <tr>\n",
       "      <th>num__age</th>\n",
       "      <td>-0.623408</td>\n",
       "    </tr>\n",
       "    <tr>\n",
       "      <th>cat__new_user_1</th>\n",
       "      <td>-1.676228</td>\n",
       "    </tr>\n",
       "  </tbody>\n",
       "</table>\n",
       "</div>"
      ],
      "text/plain": [
       "                          coefficients\n",
       "cat__country_Germany          3.289475\n",
       "cat__country_UK               3.075964\n",
       "cat__country_US               2.734379\n",
       "num__total_pages_visited      2.177316\n",
       "cat__source_Seo               0.053833\n",
       "cat__source_Direct           -0.118909\n",
       "num__age                     -0.623408\n",
       "cat__new_user_1              -1.676228"
      ]
     },
     "execution_count": 112,
     "metadata": {},
     "output_type": "execute_result"
    }
   ],
   "source": [
    "feature_importance = coefs.sort_values(by='coefficients', ascending=False)\n",
    "feature_importance"
   ]
  },
  {
   "cell_type": "code",
   "execution_count": 113,
   "metadata": {},
   "outputs": [],
   "source": [
    "negative_coefs = feature_importance[feature_importance['coefficients']<0]"
   ]
  },
  {
   "cell_type": "code",
   "execution_count": 114,
   "metadata": {},
   "outputs": [
    {
     "data": {
      "text/html": [
       "<div>\n",
       "<style scoped>\n",
       "    .dataframe tbody tr th:only-of-type {\n",
       "        vertical-align: middle;\n",
       "    }\n",
       "\n",
       "    .dataframe tbody tr th {\n",
       "        vertical-align: top;\n",
       "    }\n",
       "\n",
       "    .dataframe thead th {\n",
       "        text-align: right;\n",
       "    }\n",
       "</style>\n",
       "<table border=\"1\" class=\"dataframe\">\n",
       "  <thead>\n",
       "    <tr style=\"text-align: right;\">\n",
       "      <th></th>\n",
       "      <th>cat__country_Germany</th>\n",
       "      <th>cat__country_UK</th>\n",
       "      <th>cat__country_US</th>\n",
       "      <th>num__total_pages_visited</th>\n",
       "      <th>cat__new_user_1</th>\n",
       "      <th>num__age</th>\n",
       "      <th>cat__source_Direct</th>\n",
       "      <th>cat__source_Seo</th>\n",
       "    </tr>\n",
       "  </thead>\n",
       "  <tbody>\n",
       "    <tr>\n",
       "      <th>coefficients</th>\n",
       "      <td>3.289475</td>\n",
       "      <td>3.075964</td>\n",
       "      <td>2.734379</td>\n",
       "      <td>2.177316</td>\n",
       "      <td>1.676228</td>\n",
       "      <td>0.623408</td>\n",
       "      <td>0.118909</td>\n",
       "      <td>0.053833</td>\n",
       "    </tr>\n",
       "  </tbody>\n",
       "</table>\n",
       "</div>"
      ],
      "text/plain": [
       "              cat__country_Germany  cat__country_UK  cat__country_US  \\\n",
       "coefficients              3.289475         3.075964         2.734379   \n",
       "\n",
       "              num__total_pages_visited  cat__new_user_1  num__age  \\\n",
       "coefficients                  2.177316         1.676228  0.623408   \n",
       "\n",
       "              cat__source_Direct  cat__source_Seo  \n",
       "coefficients            0.118909         0.053833  "
      ]
     },
     "execution_count": 114,
     "metadata": {},
     "output_type": "execute_result"
    }
   ],
   "source": [
    "# Compute abs() and sort values:\n",
    "feature_importance_abs = abs(coefs).sort_values(by='coefficients', ascending=False)\n",
    "feature_importance_abs = feature_importance_abs.transpose()\n",
    "feature_importance_abs"
   ]
  },
  {
   "cell_type": "code",
   "execution_count": 129,
   "metadata": {},
   "outputs": [
    {
     "data": {
      "image/png": "[encoded data removed]",
      "text/plain": [
       "<Figure size 600x250 with 1 Axes>"
      ]
     },
     "metadata": {},
     "output_type": "display_data"
    }
   ],
   "source": [
    "# Plot coefficients (in absolute value):\n",
    "import seaborn as sns\n",
    "import matplotlib.pyplot as plt \n",
    "\n",
    "colors = ['red' if y in negative_coefs.index else 'limegreen' for y in feature_importance_abs.columns]\n",
    "sns.set(rc={'figure.figsize':(6, 2.5)}, style='white')\n",
    "sns.barplot(data = feature_importance_abs,orient = 'v', palette = colors, width = .9, edgecolor = 'black')\n",
    "plt.title('Features importance in the Baseline Model', fontsize=12.5, pad=20)\n",
    "plt.xlabel('(green: positive coefficients / red: negative coefficients)', fontsize=10)\n",
    "plt.ylabel('Coefficients (absolute value)', fontsize=10)\n",
    "plt.xticks(fontsize=9, fontweight='bold', rotation=45, ha='right')\n",
    "plt.xticks(feature_importance_abs.columns, fontsize=9, fontweight='bold', rotation=45, ha=\"right\")\n",
    "plt.legend('', frameon=False)\n",
    "plt.show()"
   ]
  },
  {
   "cell_type": "markdown",
   "metadata": {},
   "source": [
    "### Résultats : \n",
    "\n",
    "- On observe que le modèle maximise surtout les variables de pays.\n",
    "\n",
    "- Le nombre de pages visitées n'arrive qu'en 4e position pour le modèle de base."
   ]
  },
  {
   "cell_type": "code",
   "execution_count": null,
   "metadata": {},
   "outputs": [],
   "source": []
  }
 ],
 "metadata": {
  "kernelspec": {
   "display_name": "ml",
   "language": "python",
   "name": "python3"
  },
  "language_info": {
   "codemirror_mode": {
    "name": "ipython",
    "version": 3
   },
   "file_extension": ".py",
   "mimetype": "text/x-python",
   "name": "python",
   "nbconvert_exporter": "python",
   "pygments_lexer": "ipython3",
   "version": "3.12.1"
  }
 },
 "nbformat": 4,
 "nbformat_minor": 2
}
